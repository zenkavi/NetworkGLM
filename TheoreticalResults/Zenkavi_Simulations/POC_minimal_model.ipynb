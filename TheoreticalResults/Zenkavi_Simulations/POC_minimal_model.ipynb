{
 "cells": [
  {
   "cell_type": "markdown",
   "metadata": {},
   "source": [
    "Set up environment"
   ]
  },
  {
   "cell_type": "code",
   "execution_count": 1,
   "metadata": {},
   "outputs": [],
   "source": [
    "from collections import OrderedDict\n",
    "import copy\n",
    "import sys\n",
    "import numpy as np\n",
    "import matplotlib.pyplot as plt\n",
    "%matplotlib inline\n",
    "import pandas as pd\n",
    "import seaborn as sns\n",
    "sns.set_style(\"white\")\n",
    "import scipy.stats as stats\n",
    "import statsmodels.api as sm\n",
    "import statsmodels.formula.api as smf\n",
    "from sklearn.preprocessing import scale"
   ]
  },
  {
   "cell_type": "markdown",
   "metadata": {},
   "source": [
    "Import custom modules"
   ]
  },
  {
   "cell_type": "code",
   "execution_count": 2,
   "metadata": {},
   "outputs": [
    {
     "name": "stdout",
     "output_type": "stream",
     "text": [
      "Importing eGLM helpers...\n",
      "All eGLM helpers imported!\n"
     ]
    }
   ],
   "source": [
    "import sys\n",
    "sys.path.append('../')\n",
    "sys.path.append('../../utils/')\n",
    "\n",
    "# Helper functions for eGLM \n",
    "from eGLM_helpers import phi, run_ucr_glm, run_ext_glm, make_stimtimes, sim_network_task_glm, get_res_ts, get_res_taskreg, get_true_baseline, plot_sim_network_glm\n",
    "import model"
   ]
  },
  {
   "cell_type": "markdown",
   "metadata": {},
   "source": [
    "Goal of this notebook: Create the most minimal RNN that will be used in the more extended simulations to understand how activity propogates depending on the various parameters.\n",
    "\n",
    "The network model describes change in activity as follows:\n",
    "\n",
    "\\begin{equation*}\n",
    "\\frac{dx_i}{dt}\\tau_i = -x_i(t) + s\\phi\\big(x_i(t)\\big) + g\\Bigg(\\sum_{j\\neq i}^{N} W_{ij}\\phi\\big(x_j(t)\\big)\\Bigg) + I_i(t)\n",
    "\\end{equation*}"
   ]
  },
  {
   "cell_type": "markdown",
   "metadata": {},
   "source": [
    "We create network with 9 nodes with the following connectivity matrix. The first community (nodes 0-2) is a hub community and the other two are local communities."
   ]
  },
  {
   "cell_type": "code",
   "execution_count": 3,
   "metadata": {},
   "outputs": [],
   "source": [
    "ncommunities = 3\n",
    "innetwork_dsity = .6\n",
    "outnetwork_dsity = .08\n",
    "hubnetwork_dsity = .5\n",
    "nodespercommunity = 3\n",
    "plot_network = False\n",
    "\n",
    "totalnodes = nodespercommunity*ncommunities"
   ]
  },
  {
   "cell_type": "code",
   "execution_count": 4,
   "metadata": {},
   "outputs": [
    {
     "data": {
      "text/plain": [
       "<matplotlib.collections.LineCollection at 0x7f96b68e6dd8>"
      ]
     },
     "execution_count": 4,
     "metadata": {},
     "output_type": "execute_result"
    },
    {
     "data": {
      "image/png": "[encoded data removed]",
      "text/plain": [
       "<Figure size 432x288 with 2 Axes>"
      ]
     },
     "metadata": {},
     "output_type": "display_data"
    }
   ],
   "source": [
    "# Construct structural matrix\n",
    "S = model.generateStructuralNetwork(ncommunities=ncommunities,\n",
    "                                    innetwork_dsity=innetwork_dsity,\n",
    "                                    outnetwork_dsity=outnetwork_dsity,\n",
    "                                    hubnetwork_dsity=hubnetwork_dsity,\n",
    "                                    nodespercommunity=nodespercommunity,\n",
    "                                    showplot=True)\n",
    "\n",
    "plt.hlines(y=2.5, xmin = -0.5, xmax = 8.5)\n",
    "plt.hlines(y=5.5, xmin = -0.5, xmax = 8.5)\n",
    "plt.vlines(x=2.5, ymin = -0.5, ymax = 8.5)\n",
    "plt.vlines(x=5.5, ymin = -0.5, ymax = 8.5)"
   ]
  },
  {
   "cell_type": "markdown",
   "metadata": {},
   "source": [
    "Note in this matrix:\n",
    "\n",
    "`W[..., x]` : column x of matrix denotes all outgoing connection weights from node x  \n",
    "`W[x, ...]` : row x of matrix denotes all incoming connection weights to node x"
   ]
  },
  {
   "cell_type": "code",
   "execution_count": 5,
   "metadata": {},
   "outputs": [],
   "source": [
    "# Construct synaptic matrix\n",
    "W = model.generateSynapticNetwork(S, showplot=False)"
   ]
  },
  {
   "cell_type": "code",
   "execution_count": 6,
   "metadata": {},
   "outputs": [],
   "source": [
    "Tmax = 1000\n",
    "dt = 1\n",
    "T = np.arange(0,Tmax,dt)\n",
    "\n",
    "# Construct a community affiliation vector\n",
    "Ci = np.repeat(np.arange(ncommunities),nodespercommunity) \n",
    "# Identify the regions associated with the hub network (hub network is by default the 0th network)\n",
    "hub_ind = np.where(Ci==0)[0] \n",
    "\n",
    "stimsize = nodespercommunity\n",
    "\n",
    "# This works because if there is a hub network the first nodes are the hub nodes\n",
    "stim_nodes_td = np.arange(0, stimsize, dtype=int)\n",
    "#stim_nodes_td"
   ]
  },
  {
   "cell_type": "markdown",
   "metadata": {},
   "source": [
    "This network is stimulated topdown (i.e. only the hub nodes) with the following task:"
   ]
  },
  {
   "cell_type": "code",
   "execution_count": 7,
   "metadata": {},
   "outputs": [
    {
     "data": {
      "text/plain": [
       "[<matplotlib.lines.Line2D at 0x7f96b6a20d30>]"
      ]
     },
     "execution_count": 7,
     "metadata": {},
     "output_type": "execute_result"
    },
    {
     "data": {
      "image/png": "[encoded data removed]",
      "text/plain": [
       "<Figure size 432x288 with 1 Axes>"
      ]
     },
     "metadata": {},
     "output_type": "display_data"
    }
   ],
   "source": [
    "sa = 50\n",
    "ea = 100\n",
    "iv = 200\n",
    "tasktiming, stimtimes = make_stimtimes(Tmax=1000, dt=1, stim_nodes= stim_nodes_td, stim_mag=0.5, sa = sa, ea = ea, iv = iv,\n",
    "                          ncommunities = ncommunities, nodespercommunity = nodespercommunity)\n",
    "plt.plot(stimtimes[0])"
   ]
  },
  {
   "cell_type": "code",
   "execution_count": 8,
   "metadata": {},
   "outputs": [],
   "source": [
    "taskdata, noise = model.networkModel(W, Tmax=Tmax,dt=dt,\n",
    "                                     g=1, s=1, tau=1, I=stimtimes, \n",
    "                                     noise=None)"
   ]
  },
  {
   "cell_type": "code",
   "execution_count": 9,
   "metadata": {},
   "outputs": [],
   "source": [
    "#Visualize what is going on on the network\n",
    "#Three scatter plots with three curves for the timeseries/activity of each node in that community\n",
    "taskdata_df = pd.DataFrame(taskdata)\n",
    "taskdata_df['node_num'] = taskdata_df.index\n",
    "taskdata_df['com_num'] = [0,0,0,1,1,1,2,2,2]\n",
    "taskdata_df = taskdata_df.melt(id_vars = ['node_num', 'com_num'])\n",
    "taskdata_df = taskdata_df.rename(columns={\"variable\": \"time\", \"value\": \"activity\"})"
   ]
  },
  {
   "cell_type": "markdown",
   "metadata": {},
   "source": [
    "Timeseries/activity for each node in each community.  \n",
    "\n",
    "Since only the hub network is stimulated by the task the amount of activity will depend on number (/strength) of incoming connections from hub network nodes. If a node does not have any incoming connections from the hub network its activity will not change from 0.\n",
    "\n",
    "Connections from the hub community to the other communities can be checked on the columns going out of the hub nodes (in this case the first three columns)."
   ]
  },
  {
   "cell_type": "code",
   "execution_count": 11,
   "metadata": {},
   "outputs": [
    {
     "data": {
      "image/png": "[encoded data removed]",
      "text/plain": [
       "<Figure size 1440x360 with 3 Axes>"
      ]
     },
     "metadata": {},
     "output_type": "display_data"
    }
   ],
   "source": [
    "plt.rcParams[\"figure.figsize\"][0] = 20\n",
    "plt.rcParams[\"figure.figsize\"][1] = 5\n",
    "fig, a = plt.subplots(1, 3)\n",
    "\n",
    "for cur_com in taskdata_df.com_num.unique():\n",
    "    \n",
    "    cur_vals = [\"C\"+str(x) for x in range(len(taskdata_df.query(\"com_num==@cur_com\").node_num.unique()))]\n",
    "    cur_col_lookup = dict(zip(taskdata_df.query(\"com_num==@cur_com\").node_num.unique(), cur_vals))\n",
    "    \n",
    "    for cur_node in taskdata_df.query(\"com_num==@cur_com\").node_num.unique():\n",
    "        tmp = taskdata_df.query(\"com_num==@cur_com & node_num==@cur_node\")\n",
    "        a[cur_com].plot(tmp['time'], tmp['activity'], color = cur_col_lookup[cur_node], label = cur_node)\n",
    "        a[cur_com].set_ylim([-0.2,2])\n",
    "        a[cur_com].set_title(\"com_num = %s\"%(str(cur_com)))\n",
    "        a[cur_com].legend(loc=\"upper right\")"
   ]
  },
  {
   "cell_type": "markdown",
   "metadata": {},
   "source": [
    "Note that activity builds up and decreases in several time steps:"
   ]
  },
  {
   "cell_type": "code",
   "execution_count": 64,
   "metadata": {},
   "outputs": [
    {
     "data": {
      "text/plain": [
       "(-0.2, 2.0)"
      ]
     },
     "execution_count": 64,
     "metadata": {},
     "output_type": "execute_result"
    },
    {
     "data": {
      "image/png": "[encoded data removed]",
      "text/plain": [
       "<Figure size 1008x360 with 2 Axes>"
      ]
     },
     "metadata": {},
     "output_type": "display_data"
    }
   ],
   "source": [
    "plt.rcParams[\"figure.figsize\"][0] = 14\n",
    "plt.rcParams[\"figure.figsize\"][1] = 5\n",
    "fig, a = plt.subplots(1, 2)\n",
    "\n",
    "\n",
    "a[0].plot(taskdata[0, 40:60])\n",
    "a[0].annotate(\"Task On\", xy=(9, 0.35), xytext=(9, 0.35))\n",
    "a[0].arrow(10, 0.3, 0, -0.2, head_width=0.5, head_length=0.1, fc='k', ec='k')\n",
    "a[0].set_xticks([])\n",
    "a[0].set_yticks([])\n",
    "a[0].set_xlabel(\"Time\")\n",
    "a[0].set_ylabel(\"Activity\")\n",
    "a[0].set_ylim([-0.2,2])\n",
    "\n",
    "a[1].plot(taskdata[0, 95:120])\n",
    "a[1].annotate(\"Task Off\", xy=(2.6, 1), xytext=(2.6, 1))\n",
    "a[1].arrow(4, 1.08, 0, 0.2, head_width=0.5, head_length=0.1, fc='k', ec='k')\n",
    "a[1].set_xticks([])\n",
    "a[1].set_yticks([])\n",
    "a[1].set_xlabel(\"Time\")\n",
    "a[1].set_ylabel(\"\")\n",
    "a[1].set_ylim([-0.2,2])\n"
   ]
  },
  {
   "cell_type": "markdown",
   "metadata": {},
   "source": [
    "Back to the data generating process:\n",
    "\n",
    "\\begin{equation*}\n",
    "\\frac{dx_i}{dt}\\tau_i = -x_i(t) + s\\phi\\big(x_i(t)\\big) + g\\Bigg(\\sum_{j\\neq i}^{N} W_{ij}\\phi\\big(x_j(t)\\big)\\Bigg) + I_i(t)\n",
    "\\end{equation*}\n",
    "\n",
    "\\begin{equation*}\n",
    "x_i(t+1) = \\frac{dx_i}{dt}\\tau_i + x_i(t)\n",
    "\\end{equation*}\n",
    "\n",
    "So the GLM to invert should be:\n",
    "\n",
    "\\begin{equation*}\n",
    "x_i(t+1) = s\\phi\\big(x_i(t)\\big) + g\\Bigg(\\sum_{j\\neq i}^{N} W_{ij}\\phi\\big(x_j(t)\\big)\\Bigg) + I_i(t)\n",
    "\\end{equation*}\n",
    "\n",
    "Plot the classic and extended GLMs for a stimulated vs non-stimulated node"
   ]
  },
  {
   "cell_type": "code",
   "execution_count": 128,
   "metadata": {},
   "outputs": [],
   "source": [
    "s = 1\n",
    "g = 1\n",
    "node = 0\n",
    "\n",
    "#Drop the first time point\n",
    "y = taskdata[node,1:]\n",
    "\n",
    "#intercept\n",
    "intcp = np.ones_like(y)\n",
    "\n",
    "#Drop last time point\n",
    "s_phi_x = s*phi(taskdata[node,:-1])\n",
    "\n",
    "g_w_phi_x = np.delete(taskdata, node, axis=0)[:,:-1]\n",
    "g_w_phi_x = np.apply_along_axis(phi, 0, g_w_phi_x)\n",
    "cur_w = np.delete(W[node,:], node, axis=0)\n",
    "cur_w = cur_w.reshape(-1,1)\n",
    "g_w_phi_x = cur_w * g_w_phi_x\n",
    "g_w_phi_x = np.sum(g_w_phi_x, axis=0)\n",
    "g_w_phi_x = g*g_w_phi_x\n",
    "\n",
    "i_t = tasktiming[:-1]\n",
    "\n",
    "old_des_mat = np.column_stack((intcp, i_t))\n",
    "new_des_mat = np.column_stack((intcp, s_phi_x, g_w_phi_x, i_t))"
   ]
  },
  {
   "cell_type": "code",
   "execution_count": 139,
   "metadata": {},
   "outputs": [
    {
     "data": {
      "image/png": "[encoded data removed]",
      "text/plain": [
       "<Figure size 1440x360 with 4 Axes>"
      ]
     },
     "metadata": {},
     "output_type": "display_data"
    }
   ],
   "source": [
    "plt.rcParams[\"figure.figsize\"][0] = 20\n",
    "plt.rcParams[\"figure.figsize\"][1] = 5\n",
    "fig, a = plt.subplots(1, 3, gridspec_kw={'width_ratios': [1, 2, 4]})\n",
    "\n",
    "a[0].set_title(\"Y\")\n",
    "a[1].set_title(\"cGLM design matrix\")\n",
    "a[2].set_title(\"eGLM design matrix\")\n",
    "\n",
    "sns.heatmap(y.reshape(-1,1), xticklabels=False, yticklabels=False, cbar=False, ax = a[0], vmin = 0 , vmax = 1)\n",
    "sns.heatmap(old_des_mat, xticklabels=False, yticklabels=False, cbar=False, ax = a[1], vmin = 0 , vmax = 1)\n",
    "sns.heatmap(new_des_mat, xticklabels=False, yticklabels=False, cbar=True, ax = a[2], vmin = 0 , vmax = 1)\n",
    "\n",
    "\n",
    "plt.subplots_adjust(wspace=0.1)"
   ]
  },
  {
   "cell_type": "code",
   "execution_count": 118,
   "metadata": {},
   "outputs": [
    {
     "data": {
      "text/plain": [
       "(999,)"
      ]
     },
     "execution_count": 118,
     "metadata": {},
     "output_type": "execute_result"
    }
   ],
   "source": [
    "y.shape"
   ]
  },
  {
   "cell_type": "code",
   "execution_count": null,
   "metadata": {},
   "outputs": [],
   "source": []
  },
  {
   "cell_type": "code",
   "execution_count": null,
   "metadata": {},
   "outputs": [],
   "source": []
  },
  {
   "cell_type": "code",
   "execution_count": null,
   "metadata": {},
   "outputs": [],
   "source": []
  },
  {
   "cell_type": "code",
   "execution_count": null,
   "metadata": {},
   "outputs": [],
   "source": []
  },
  {
   "cell_type": "code",
   "execution_count": null,
   "metadata": {},
   "outputs": [],
   "source": [
    "base_sim= sim_network_task_glm(ncommunities = ncommunities, \n",
    "                         nodespercommunity = nodespercommunity, \n",
    "                         dt = 1, tau = 1, g = 1, s = 1, \n",
    "                         Tmax = Tmax, \n",
    "                         stimsize = nodespercommunity, \n",
    "                         stim_mag = .5,\n",
    "                         W = W,\n",
    "                         taskdata = taskdata,\n",
    "                         tasktiming = tasktiming,\n",
    "                         sa = 50,\n",
    "                         ea = 100,\n",
    "                         iv = 200,\n",
    "                         standardize=True)\n",
    "\n",
    "base_sim_ns= sim_network_task_glm(ncommunities = ncommunities, \n",
    "                         nodespercommunity = nodespercommunity, \n",
    "                         dt = 1, tau = 1, g = 1, s = 1, \n",
    "                         Tmax = Tmax, \n",
    "                         stimsize = nodespercommunity, \n",
    "                         stim_mag = .5,\n",
    "                         W = W,\n",
    "                         taskdata = taskdata,\n",
    "                         tasktiming = tasktiming,\n",
    "                         sa = 50,\n",
    "                         ea = 100,\n",
    "                         iv = 200,\n",
    "                         standardize=False)"
   ]
  },
  {
   "cell_type": "markdown",
   "metadata": {},
   "source": [
    "How to analyze the relationship between the induced task activity and the timeseries of a node?  \n",
    "\n",
    "What we want to capture is the change in activity in a node only due task and **not** due to amplification from the rest of the network. Since we know the task only stimulates the hub nodes in this stimulation we should find that only the relationship between the timeseries of those nodes and task should be >0 and everything else should be 0.\n",
    "\n",
    "To get at this we examine the 'residualized' activity from each node. This is the remaining activity after regressing out the effect of everything else (see equations in the Extended_GLM_neural_network_level.ipynb) except the task."
   ]
  },
  {
   "cell_type": "code",
   "execution_count": 13,
   "metadata": {},
   "outputs": [],
   "source": [
    "plt.rcParams[\"figure.figsize\"][0] = 20\n",
    "plt.rcParams[\"figure.figsize\"][1] = 5\n",
    "fig, a = plt.subplots(1, 3)\n",
    "\n",
    "for cur_com in taskdata_df.com_num.unique():\n",
    "    \n",
    "    cur_vals = [\"C\"+str(x) for x in range(len(taskdata_df.query(\"com_num==@cur_com\").node_num.unique()))]\n",
    "    cur_col_lookup = dict(zip(taskdata_df.query(\"com_num==@cur_com\").node_num.unique(), cur_vals))\n",
    "    \n",
    "    \n",
    "    for cur_node in taskdata_df.query(\"com_num==@cur_com\").node_num.unique():\n",
    "        res_y, res_task = get_res_taskreg(base_sim, cur_node)\n",
    "        a[cur_com].plot(res_y, color = cur_col_lookup[cur_node], label = cur_node)\n",
    "        #a[cur_com].plot(res_task, \"--\",color = cur_col_lookup[cur_node], alpha=.5)\n",
    "        a[cur_com].set_ylim([-.5,.5])\n",
    "        a[cur_com].set_title(\"com_num = %s\"%(str(cur_com)))\n",
    "        a[cur_com].legend(loc=\"upper right\")"
   ]
  },
  {
   "cell_type": "code",
   "execution_count": null,
   "metadata": {},
   "outputs": [],
   "source": [
    "plt.rcParams[\"figure.figsize\"][0] = 20\n",
    "plt.rcParams[\"figure.figsize\"][1] = 5\n",
    "fig, a = plt.subplots(1, 3)\n",
    "\n",
    "for cur_com in taskdata_df.com_num.unique():\n",
    "    \n",
    "    cur_vals = [\"C\"+str(x) for x in range(len(taskdata_df.query(\"com_num==@cur_com\").node_num.unique()))]\n",
    "    cur_col_lookup = dict(zip(taskdata_df.query(\"com_num==@cur_com\").node_num.unique(), cur_vals))\n",
    "    \n",
    "    a[cur_com].plot([0, 1], [0, 1], \"--\",transform=a[cur_com].transAxes, color=\"black\")\n",
    "    a[cur_com].set_xlabel(\"Resid Activity\")\n",
    "    a[cur_com].set_ylabel(\"Resid Task\")\n",
    "    \n",
    "    for cur_node in taskdata_df.query(\"com_num==@cur_com\").node_num.unique():\n",
    "        res_y, res_task = get_res_taskreg(base_sim, cur_node)\n",
    "        a[cur_com].scatter(res_task, res_y, color = cur_col_lookup[cur_node], label = cur_node)\n",
    "        a[cur_com].set_ylim([-.5,.5])\n",
    "        a[cur_com].set_title(\"com_num = %s\"%(str(cur_com)))\n",
    "        a[cur_com].legend(loc=\"lower right\")\n"
   ]
  },
  {
   "cell_type": "markdown",
   "metadata": {},
   "source": [
    "Why does the difference between non stimulated and stimulated nodes disappear when you standardize? Because all time series are forced to look almost the same (same mean and same std) so the relationship between the now much more similar time series and the task regressor is very similar as well.  \n",
    "\n",
    "To demonstrate this see below what happens to the timeseries of a stimulated and non-stimulated node with or without standardization."
   ]
  },
  {
   "cell_type": "code",
   "execution_count": null,
   "metadata": {},
   "outputs": [],
   "source": [
    "plt.rcParams[\"figure.figsize\"][0] = 18\n",
    "plt.rcParams[\"figure.figsize\"][1] = 6\n",
    "\n",
    "tmp = {'stim': 0, 'nonstim': 8}\n",
    "\n",
    "fig, a = plt.subplots(1, 2)\n",
    "\n",
    "for i, (k, v) in enumerate(tmp.items()):\n",
    "    a[i].plot(base_sim['taskdata'][v], label = 'not standardized')\n",
    "    a[i].plot(scale(base_sim['taskdata'][v]), label = 'standardized')\n",
    "    a[i].legend(loc=\"lower right\")\n",
    "    a[i].set_ylim([-2, 2])\n",
    "    a[i].set_title(k)\n"
   ]
  },
  {
   "cell_type": "markdown",
   "metadata": {},
   "source": [
    "What does the residualized activity look like for all nodes and the task?  \n",
    "(To understand why the baseline goes down when you standardize)  \n",
    "Baseline - relationship between residualized time series accounting for rest of network activity"
   ]
  },
  {
   "cell_type": "code",
   "execution_count": null,
   "metadata": {},
   "outputs": [],
   "source": [
    "fig, a = plt.subplots(2, 2)\n",
    "\n",
    "tmp1 = {'std': base_sim, 'nstd': base_sim_ns}\n",
    "tmp2 = {'stim': 0, 'nonstim': 8}\n",
    "\n",
    "for i, (typ, data) in enumerate(tmp1.items()):\n",
    "    for j, (n_typ, n_num) in enumerate(tmp2.items()):\n",
    "        res_y, m_res = get_res_taskreg(data, n_num)\n",
    "        a[i, j].plot(res_y, label=\"resid activity\")\n",
    "        a[i, j].plot(m_res, label=\"resid task\")\n",
    "        a[i, j].legend(loc=\"upper right\")\n",
    "        a[i, j].set_title(n_typ+\"_\"+typ)\n",
    "        if i == 0:\n",
    "            a[i, j].set_ylim([-3,1])\n",
    "        else:\n",
    "            a[i, j].set_ylim([-.5,.3])\n",
    "        a[i,j].annotate(\"beta = \"+str(round(data['ext_betas'][n_num], 3)), (0.8, 0.2), textcoords='axes fraction')\n",
    "    "
   ]
  },
  {
   "cell_type": "markdown",
   "metadata": {},
   "source": [
    "If you standardize it the difference between the \n",
    "\n",
    "The relationship between the task regressor and all nodes is ~ 1, with cGLM\n",
    "\n",
    "Why is the "
   ]
  },
  {
   "cell_type": "code",
   "execution_count": null,
   "metadata": {},
   "outputs": [],
   "source": [
    "totalnodes = ncommunities*nodespercommunity\n",
    "alp = .5\n",
    "\n",
    "tmp = {'std': base_sim, 'nstd': base_sim_ns}\n",
    "\n",
    "plt.rcParams[\"figure.figsize\"][0] = 18\n",
    "plt.rcParams[\"figure.figsize\"][1] = 6\n",
    "fig, a = plt.subplots(1, 2)\n",
    "\n",
    "for i, (k, data) in enumerate(tmp.items()):\n",
    "    \n",
    "    a[i].plot(data['ucr_betas'], alpha = alp, color = \"C0\", label = \"cGLM \"+k)\n",
    "    a[i].plot(data['ext_betas'], alpha = alp, color = \"C1\", label = \"eGLM \"+k)\n",
    "    \n",
    "    baseline_vec = get_true_baseline(data, stim_nodes = range(3), tasktiming = None, sa = 50, ea = 100, iv = 20)\n",
    "\n",
    "    all_nodes = list(range(totalnodes))\n",
    "    stim_ind = [1 if x in data['stim_nodes'] else 0 for x in all_nodes]\n",
    "\n",
    "    a[i].plot(baseline_vec, \n",
    "     color = \"black\", linestyle = '--', label = None, alpha = alp)\n",
    "    \n",
    "    a[i].set_ylabel('Beta',fontsize=14)\n",
    "    a[i].set_xlabel('Node',fontsize=14)\n",
    "    \n",
    "    for n in range(1,ncommunities):\n",
    "        a[i].axvline(x=nodespercommunity*n,linewidth=2, color='gray', ls = \"--\")\n",
    "    \n",
    "    a[i].legend(loc=\"center right\")\n",
    "    a[i].set_title(k)"
   ]
  },
  {
   "cell_type": "markdown",
   "metadata": {},
   "source": [
    "How does this deal with the baseline/eGLM parameters looking closest to noiseless data for most noisy data compared to lower levels of noise?"
   ]
  },
  {
   "cell_type": "code",
   "execution_count": null,
   "metadata": {},
   "outputs": [],
   "source": [
    "noise_sim= sim_network_task_glm(ncommunities = ncommunities, \n",
    "                         nodespercommunity = nodespercommunity, \n",
    "                         dt = 1, tau = 1, g = 1, s = 1, \n",
    "                         Tmax = Tmax, \n",
    "                         stimsize = nodespercommunity, \n",
    "                         stim_mag = .5,\n",
    "                         W = W,\n",
    "                         tasktiming = tasktiming,\n",
    "                         sa = 50,\n",
    "                         ea = 100,\n",
    "                         iv = 200,\n",
    "                         standardize=True,\n",
    "                         noise=1,\n",
    "                         noise_scale=5)\n",
    "\n",
    "noise_sim_ns= sim_network_task_glm(ncommunities = ncommunities, \n",
    "                         nodespercommunity = nodespercommunity, \n",
    "                         dt = 1, tau = 1, g = 1, s = 1, \n",
    "                         Tmax = Tmax, \n",
    "                         stimsize = nodespercommunity, \n",
    "                         stim_mag = .5,\n",
    "                         W = W,\n",
    "                         tasktiming = tasktiming,\n",
    "                         sa = 50,\n",
    "                         ea = 100,\n",
    "                         iv = 200,\n",
    "                         standardize=False,\n",
    "                         noise=1,\n",
    "                         noise_scale=5)"
   ]
  },
  {
   "cell_type": "code",
   "execution_count": null,
   "metadata": {},
   "outputs": [],
   "source": [
    "totalnodes = ncommunities*nodespercommunity\n",
    "alp = .5\n",
    "\n",
    "tmp = {'std': noise_sim, 'nstd': noise_sim_ns}\n",
    "\n",
    "plt.rcParams[\"figure.figsize\"][0] = 18\n",
    "plt.rcParams[\"figure.figsize\"][1] = 6\n",
    "fig, a = plt.subplots(1, 2)\n",
    "\n",
    "for i, (k, data) in enumerate(tmp.items()):\n",
    "    \n",
    "    a[i].plot(data['ucr_betas'], alpha = alp, color = \"C0\", label = \"cGLM \"+k)\n",
    "    a[i].plot(data['ext_betas'], alpha = alp, color = \"C1\", label = \"eGLM \"+k)\n",
    "    \n",
    "    baseline_vec = get_true_baseline(data, stim_nodes = range(3), tasktiming = None, sa = 50, ea = 100, iv = 20)\n",
    "\n",
    "    all_nodes = list(range(totalnodes))\n",
    "    stim_ind = [1 if x in data['stim_nodes'] else 0 for x in all_nodes]\n",
    "\n",
    "    a[i].plot(baseline_vec, \n",
    "     color = \"black\", linestyle = '--', label = None, alpha = alp)\n",
    "    \n",
    "    a[i].set_ylabel('Beta',fontsize=14)\n",
    "    a[i].set_xlabel('Node',fontsize=14)\n",
    "    \n",
    "    for n in range(1,ncommunities):\n",
    "        a[i].axvline(x=nodespercommunity*n,linewidth=2, color='gray', ls = \"--\")\n",
    "    \n",
    "    a[i].legend(loc=\"center right\")\n",
    "    a[i].set_title(k)"
   ]
  },
  {
   "cell_type": "code",
   "execution_count": null,
   "metadata": {},
   "outputs": [],
   "source": []
  }
 ],
 "metadata": {
  "kernelspec": {
   "display_name": "Python 3",
   "language": "python",
   "name": "python3"
  },
  "language_info": {
   "codemirror_mode": {
    "name": "ipython",
    "version": 3
   },
   "file_extension": ".py",
   "mimetype": "text/x-python",
   "name": "python",
   "nbconvert_exporter": "python",
   "pygments_lexer": "ipython3",
   "version": "3.7.2"
  },
  "toc-showcode": false
 },
 "nbformat": 4,
 "nbformat_minor": 4
}
