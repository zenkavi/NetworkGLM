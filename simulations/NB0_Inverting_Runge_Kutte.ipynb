{
 "cells": [
  {
   "cell_type": "markdown",
   "metadata": {},
   "source": [
    "# Inverting the Runge-Kutte second order method"
   ]
  },
  {
   "cell_type": "markdown",
   "metadata": {},
   "source": [
    "At each time point the differential equation describing the change in activity is solved using the Runge-Kutta second order method. Runge-Kutta methods are used to discretize the problem of updating values for continuous time when solving differential equations. Ito et al. hypothesize the differential equation determining the amount of change in each timestep as:\n",
    "\n",
    "$$\\begin{equation*}\n",
    "\\frac{dx_i}{dt} = \\frac{-x_i(t) + g\\Bigg(\\sum_{j\\neq i}^{N} W_{ij}\\phi\\big(x_j(t)\\big)\\Bigg) + s\\phi\\big(x_i(t)\\big) + I_i(t)}{\\tau_i}\n",
    "\\end{equation*}$$\n",
    "Thus taskdata for all nodes $x_i$ consists of the current activity plus a weighted sum of approximate changes in activity calculated using the differential equation.\n",
    "\n",
    "$$\\begin{equation*}\n",
    "x_{i}(t+dt) = x_{i}(t) + \\frac{k1_{i}+k2_{i}}{2}\n",
    "\\end{equation*}$$\n",
    "The first derivative based on $t(0)$ that is used for the approximation is\n",
    "\n",
    "$$\\begin{equation*}\n",
    "k1_{i} = \\frac{-x_{i}(t) + g\\Bigg(\\sum_{j\\neq i}^{N} W_{ij}\\phi\\big(\\hat{I}_j(t)\\big)\\Bigg) + s\\phi\\big(x_{i}(t)\\big) + \\hat{I}_{i}(t)}{\\tau}\n",
    "\\end{equation*}$$\n",
    "$\\hat{I}_{i}(t)$ is the spontaneous activity that is the sum of randomly generated noise and task-related stimulation ($\\hat{I}_{i}(t) = {I}_{i}(t)+\\epsilon(t)$). Since the column-vector of task-related stimulation activity is very sparse ($|I_{i}(t)| \\neq 0$ only for $i$ that is the third of the hub nodes and only for a short window of timepoints $t$) most of the activity that feeds into updating the activity of a node is noise (which in this framework is the equivalent of rest activity).\n",
    "\n",
    "Using this slope the first intermediate approximation at the endpoint is\n",
    "\n",
    "$$\\begin{equation*}\n",
    "x_{i}^*(t+dt) = x_{i}(t) + k1_{i} dt\n",
    "\\end{equation*}$$\n",
    "and the second order approximation for the change in activity is\n",
    "\n",
    "$$\\begin{equation*}\n",
    "k2_{i} = \\frac{-x_{i}^*(t+dt) + g\\Bigg(\\sum_{j\\neq i}^{N} W_{ij}\\phi\\big(\\hat{I}_j(t+1)\\big)\\Bigg) + s\\phi\\big(x_{i}^*(t+dt)\\big) + \\hat{I}_{i}(t+1)}{\\tau}\n",
    "\\end{equation*}$$\n",
    "If we discretize and work through the algebra the row-wise (node-centric) 'expanded' GLM for the column-wise (timepoint-centric) generated data using the Runge-Kutte method would be:\n",
    "\n",
    "$$\\begin{equation*}\n",
    "x_{i}(t+1) = x_{i}(t) + dt\\frac{k1_{i}+k2_{i}}{2}\n",
    "\\end{equation*}$$\n",
    "$$\\begin{equation*}\n",
    "x_{i}(t+1) = x_{i}(t) + dt\\frac{\\frac{-x_{i}(t) + g\\Bigg(\\sum_{j\\neq i}^{N} W_{ij}\\phi\\big(\\hat{I}_j(t)\\big)\\Bigg) + s\\phi\\big(x_{i}(t)\\big) + \\hat{I}_{i}(t)}{\\tau}+\\frac{-x_{i}^*(t+dt) + g\\Bigg(\\sum_{j\\neq i}^{N} W_{ij}\\phi\\big(\\hat{I}_j(t+1)\\big)\\Bigg) + s\\phi\\big(x_{i}^*(t+dt)\\big) + \\hat{I}_{i}(t+1)}{\\tau}}{2}\n",
    "\\end{equation*}$$\n",
    "Replacing $x_{i}^*(t+dt)$\n",
    "\n",
    "$$\\begin{equation*}\n",
    "x_{i}(t+1) = x_{i}(t) + dt\\frac{\\frac{-x_{i}(t) + g\\Bigg(\\sum_{j\\neq i}^{N} W_{ij}\\phi\\big(\\hat{I}_j(t)\\big)\\Bigg) + s\\phi\\big(x_{i}(t)\\big) + \\hat{I}_{i}(t)}{\\tau}+\\frac{-x_{i}(t) - k1_{i} dt + g\\Bigg(\\sum_{j\\neq i}^{N} W_{ij}\\phi\\big(\\hat{I}_j(t+1)\\big)\\Bigg) + s\\phi\\big(x_{i}(t) + k1_{i} dt\\big) + \\hat{I}_{i}(t+1)}{\\tau}}{2}\n",
    "\\end{equation*}$$\n",
    "To write out a general equation for $x_i(t+1)$ first we replace the $k1_i$ in the equation. Since $k1_i$ appears always in the context of $x_i(t)+k1_idt$ we plug in the formula for $k1_i$ into this expression and simplify\n",
    "\n",
    "$$\\begin{equation*}\n",
    "x_{i}(t) + k1_{i}dt = x_{i}(t)+dt\\frac{-x_{i}(t) + g\\Bigg(\\sum_{j\\neq i}^{N} W_{ij}\\phi\\big(\\hat{I}_j(t)\\big)\\Bigg) + s\\phi\\big(x_{i}(t)\\big) + \\hat{I}_{i}(t)}{\\tau}\n",
    "\\end{equation*}$$$$\\begin{equation*}\n",
    "x_{i}(t) + k1_{i}dt = \\frac{\\tau-dt}{\\tau}x_{i}(t)+\\frac{dt}{\\tau}\\Bigg[g\\Bigg(\\sum_{j\\neq i}^{N} W_{ij}\\phi\\big(\\hat{I}_j(t)\\big)\\Bigg) + s\\phi\\big(x_{i}(t)\\big) + \\hat{I}_{i}(t)\\Bigg]\n",
    "\\end{equation*}$$\n",
    "Then we use this expression in the formula of $x_{i}(t+1)$\n",
    "\n",
    "$$\\begin{equation*}\n",
    "x_{i}(t+1) = x_{i}(t) + \\frac{dt}{2\\tau}\\Bigg[-x_{i}(t) + g\\Bigg(\\sum_{j\\neq i}^{N} W_{ij}\\phi\\big(\\hat{I}_j(t)\\big)\\Bigg) + s\\phi\\big(x_{i}(t)\\big) + \\hat{I}_{i}(t) - \\big(x_{i}(t) + k1_{i} dt\\big) + g\\Bigg(\\sum_{j\\neq i}^{N} W_{ij}\\phi\\big(\\hat{I}_j(t+1)\\big)\\Bigg) + s\\phi\\big(x_{i}(t) + k1_{i} dt\\big) + \\hat{I}_{i}(t+1)\\Bigg]\n",
    "\\end{equation*}$$\n",
    "Plugging in $x_{i}(t) + k1_{i}dt$\n",
    "\n",
    "$$\\begin{equation*}\n",
    "x_{i}(t+1) = x_{i}(t) + \\frac{dt}{2\\tau}\\Bigg[-x_{i}(t) + g\\Bigg(\\sum_{j\\neq i}^{N} W_{ij}\\phi\\big(\\hat{I}_j(t)\\big)\\Bigg) + s\\phi\\big(x_{i}(t)\\big) + \\hat{I}_{i}(t) - \\big(\\frac{\\tau-dt}{\\tau}x_{i}(t)+\\frac{dt}{\\tau}\\Bigg[g\\Bigg(\\sum_{j\\neq i}^{N} W_{ij}\\phi\\big(\\hat{I}_j(t)\\big)\\Bigg) + s\\phi\\big(x_{i}(t)\\big) + \\hat{I}_{i}(t)\\Bigg]\\big) + g\\Bigg(\\sum_{j\\neq i}^{N} W_{ij}\\phi\\big(\\hat{I}_j(t+1)\\big)\\Bigg) + s\\phi\\big(\\frac{\\tau-dt}{\\tau}x_{i}(t)+\\frac{dt}{\\tau}\\Bigg[g\\Bigg(\\sum_{j\\neq i}^{N} W_{ij}\\phi\\big(\\hat{I}_j(t)\\big)\\Bigg) + s\\phi\\big(x_{i}(t)\\big) + \\hat{I}_{i}(t)\\Bigg]\\big) + \\hat{I}_{i}(t+1)\\Bigg]\n",
    "\\end{equation*}$$\n",
    "Simplifying common terms\n",
    "\n",
    "$$\\begin{equation*}\n",
    "x_{i}(t+1) = x_{i}(t) + \\frac{dt}{2\\tau}\\Bigg[\\frac{dt-2\\tau}{\\tau}x_{i}(t) + \\frac{\\tau-dt}{\\tau}\\Bigg[g\\Bigg(\\sum_{j\\neq i}^{N} W_{ij}\\phi\\big(\\hat{I}_j(t)\\big)\\Bigg) + s\\phi\\big(x_{i}(t)\\big) + \\hat{I}_{i}(t)\\Bigg] + g\\Bigg(\\sum_{j\\neq i}^{N} W_{ij}\\phi\\big(\\hat{I}_j(t+1)\\big)\\Bigg) + s\\phi\\big(\\frac{\\tau-dt}{\\tau}x_{i}(t)+\\frac{dt}{\\tau}\\Bigg[g\\Bigg(\\sum_{j\\neq i}^{N} W_{ij}\\phi\\big(\\hat{I}_j(t)\\big)\\Bigg) + s\\phi\\big(x_{i}(t)\\big) + \\hat{I}_{i}(t)\\Bigg]\\big) + \\hat{I}_{i}(t+1)\\Bigg]\n",
    "\\end{equation*}$$\n",
    "Extracting $x_{i}(t)$ outside the rest of the expression\n",
    "\n",
    "$$\\begin{equation*}\n",
    "x_{i}(t+1) = \\frac{2\\tau^2+dt(dt-2\\tau)}{2\\tau^2}x_{i}(t) + \\frac{dt}{2\\tau}\\Bigg[\\frac{\\tau-dt}{\\tau}\\Bigg(g\\Bigg(\\sum_{j\\neq i}^{N} W_{ij}\\phi\\big(\\hat{I}_j(t)\\big)\\Bigg) + s\\phi\\big(x_{i}(t)\\big) + \\hat{I}_{i}(t)\\Bigg) + g\\Bigg(\\sum_{j\\neq i}^{N} W_{ij}\\phi\\big(\\hat{I}_j(t+1)\\big)\\Bigg) + s\\phi\\big(\\frac{\\tau-dt}{\\tau}x_{i}(t)+\\frac{dt}{\\tau}\\Bigg(g\\Bigg(\\sum_{j\\neq i}^{N} W_{ij}\\phi\\big(\\hat{I}_j(t)\\big)\\Bigg) + s\\phi\\big(x_{i}(t)\\big) + \\hat{I}_{i}(t)\\Bigg)\\big) + \\hat{I}_{i}(t+1)\\Bigg]\n",
    "\\end{equation*}$$\n",
    "This is a pretty messy expression. In words it describes the activity in the next time point for a node as a function of:\n",
    "\n",
    "current node activity\n",
    "current activity depending on connectivity with other nodes, local connectivity and task stimulation\n",
    "activity in the next time step depending on connectivity with other nodes, first order approximation in the current node and task stimulation\n",
    "all of which are weigted by different constants that depends on the time steps"
   ]
  },
  {
   "cell_type": "code",
   "execution_count": null,
   "metadata": {},
   "outputs": [],
   "source": []
  }
 ],
 "metadata": {
  "kernelspec": {
   "display_name": "Python 3",
   "language": "python",
   "name": "python3"
  },
  "language_info": {
   "codemirror_mode": {
    "name": "ipython",
    "version": 3
   },
   "file_extension": ".py",
   "mimetype": "text/x-python",
   "name": "python",
   "nbconvert_exporter": "python",
   "pygments_lexer": "ipython3",
   "version": "3.7.2"
  }
 },
 "nbformat": 4,
 "nbformat_minor": 4
}
