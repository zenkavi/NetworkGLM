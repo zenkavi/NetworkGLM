{
 "cells": [
  {
   "cell_type": "markdown",
   "metadata": {
    "hide_input": false
   },
   "source": [
    "# Modeling convolved task-induced activity in a (coarser?) neural network accounting for network connectivity\n"
   ]
  },
  {
   "cell_type": "markdown",
   "metadata": {},
   "source": [
    "Set up environment"
   ]
  },
  {
   "cell_type": "markdown",
   "metadata": {},
   "source": [
    "Helper functions"
   ]
  },
  {
   "cell_type": "markdown",
   "metadata": {},
   "source": [
    "## BOLD level\n"
   ]
  },
  {
   "cell_type": "markdown",
   "metadata": {},
   "source": [
    "### Resting state\n"
   ]
  },
  {
   "cell_type": "markdown",
   "metadata": {},
   "source": [
    "#### Convolve resting state activity"
   ]
  },
  {
   "cell_type": "code",
   "execution_count": null,
   "metadata": {},
   "outputs": [],
   "source": [
    "TRLength = 100\n",
    "\n",
    "restfmri = model.convolveTimeseries(restdata,\n",
    "                                    samplingrate=dt,\n",
    "                                    TRLength=TRLength)"
   ]
  },
  {
   "cell_type": "code",
   "execution_count": null,
   "metadata": {},
   "outputs": [],
   "source": [
    "plt.figure()\n",
    "plt.imshow(restfmri, aspect='auto',origin='lower')\n",
    "plt.title('Simulated fMRI resting-state activity', y=1.04, fontsize=16)\n",
    "plt.ylabel('Regions',fontsize=14)\n",
    "plt.xlabel('Time (s)',fontsize=14)\n",
    "plt.colorbar()"
   ]
  },
  {
   "cell_type": "markdown",
   "metadata": {},
   "source": [
    "#### Recover connectivity matrix from resting state activity"
   ]
  },
  {
   "cell_type": "code",
   "execution_count": null,
   "metadata": {},
   "outputs": [],
   "source": [
    "fcmat = np.corrcoef(restfmri)\n",
    "# 0 out the diagonal\n",
    "np.fill_diagonal(fcmat,0)\n",
    "\n",
    "plt.figure()\n",
    "plt.imshow(fcmat, origin='lower')\n",
    "plt.colorbar()\n",
    "plt.title('Simulated fMRI resting-state FC \\nSingle Subject\\nPearsonFC', y=1.04, fontsize=16)\n",
    "plt.xlabel('Regions',fontsize=14)\n",
    "plt.ylabel('Regions', fontsize=14)\n",
    "plt.tight_layout()"
   ]
  },
  {
   "cell_type": "code",
   "execution_count": null,
   "metadata": {},
   "outputs": [],
   "source": [
    "fcmat_mreg = mreg.multregressionconnectivity(restfmri)\n",
    "# 0 out the diagonal\n",
    "np.fill_diagonal(fcmat_mreg,0)\n",
    "\n",
    "plt.figure()\n",
    "plt.imshow(fcmat_mreg, origin='lower')\n",
    "plt.colorbar()\n",
    "plt.title('Simulated fMRI resting-state FC\\nSingle Subject\\nMultipleRegressionFC', y=1.04, fontsize=16)\n",
    "plt.xlabel('Regions',fontsize=14)\n",
    "plt.ylabel('Regions', fontsize=14)\n",
    "plt.tight_layout()"
   ]
  },
  {
   "cell_type": "markdown",
   "metadata": {},
   "source": [
    "How **quantitatively** similar is the fc_mat to the weight matrix G?"
   ]
  },
  {
   "cell_type": "code",
   "execution_count": null,
   "metadata": {},
   "outputs": [],
   "source": [
    "plt.scatter(fcmat.flatten(), G.flatten())\n",
    "np.corrcoef(fcmat.flatten(), G.flatten())"
   ]
  },
  {
   "cell_type": "code",
   "execution_count": null,
   "metadata": {},
   "outputs": [],
   "source": [
    "plt.scatter(fcmat_mreg.flatten(), G.flatten())\n",
    "np.corrcoef(fcmat_mreg.flatten(), G.flatten())"
   ]
  },
  {
   "cell_type": "markdown",
   "metadata": {},
   "source": [
    "### Task fmri"
   ]
  },
  {
   "cell_type": "markdown",
   "metadata": {},
   "source": [
    "##### Convolve task activity \n"
   ]
  },
  {
   "cell_type": "code",
   "execution_count": null,
   "metadata": {},
   "outputs": [],
   "source": [
    "samplingrate=1.0\n",
    "# Convolve simulated task data into fMRI signal\n",
    "task_bold = model.convolveTimeseries(taskdata[task],\n",
    "                               samplingrate=samplingrate, \n",
    "                               TRLength=TRLength)\n"
   ]
  },
  {
   "cell_type": "code",
   "execution_count": null,
   "metadata": {},
   "outputs": [],
   "source": [
    "plt.figure()\n",
    "plt.imshow(task_bold, aspect='auto',origin='lower')\n",
    "plt.title('Simulated single topdown task fMRI activity', y=1.04, fontsize=16)\n",
    "plt.ylabel('Regions',fontsize=14)\n",
    "plt.xlabel('Time (s)',fontsize=14)\n",
    "plt.colorbar()"
   ]
  },
  {
   "cell_type": "markdown",
   "metadata": {},
   "source": [
    "##### Run GLM on convolved task activity"
   ]
  },
  {
   "cell_type": "code",
   "execution_count": null,
   "metadata": {},
   "outputs": [],
   "source": [
    "n_skip_BOLD = int(TRLength)\n",
    "# Temporally downsample task timing to seconds (before convolving)\n",
    "timingconv = tasktiming[:,::n_skip_BOLD]\n",
    "timingconv.shape = (timingconv.shape[1],)\n",
    "hrfsample_rate=1.0 # HRF is sampled at seconds\n",
    "hrfsample_times = np.arange(0, 30, hrfsample_rate, dtype=float)\n",
    "hrf_at_simsample = model.hrf(hrfsample_times)\n",
    "hrfconvtime = np.convolve(timingconv, hrf_at_simsample)\n",
    "n_to_remove = len(hrf_at_simsample) - 1\n",
    "convolved = hrfconvtime[:-n_to_remove]\n",
    "# Output\n",
    "timing_convolved_downsampled = convolved"
   ]
  },
  {
   "cell_type": "code",
   "execution_count": null,
   "metadata": {},
   "outputs": [],
   "source": [
    "task_betas_postfmri, task_resids_postfmri, task_tvals_postfmri, task_betas_ci_postfmri = model.runTaskGLM(task_bold, timing_convolved_downsampled)"
   ]
  },
  {
   "cell_type": "markdown",
   "metadata": {},
   "source": [
    "Results of GLM. Vertical lines indicate network boundaries. Stimulated nodes are the first eight in the hub network."
   ]
  },
  {
   "cell_type": "code",
   "execution_count": null,
   "metadata": {},
   "outputs": [],
   "source": [
    "plt.plot(task_tvals_postfmri)\n",
    "plt.ylabel('Uncorrected t-value',fontsize=14)\n",
    "plt.xlabel('Node',fontsize=14)\n",
    "plt.axhline(y=3,linewidth=2, color='red', ls = \"--\")\n",
    "plt.axvline(x=35,linewidth=2, color='black', ls = \"--\")\n",
    "plt.axvline(x=70,linewidth=2, color='black', ls = \"--\")"
   ]
  },
  {
   "cell_type": "code",
   "execution_count": null,
   "metadata": {},
   "outputs": [],
   "source": [
    "uperror = task_betas_ci_postfmri[:,1]\n",
    "downerror = task_betas_ci_postfmri[:,0]\n",
    "errorbars = np.concatenate(([uperror], [downerror]), axis=0)\n",
    "\n",
    "plt.errorbar(np.arange(totalnodes), task_betas_postfmri, yerr=errorbars, fmt = 'o')\n",
    "plt.ylabel('Beta (with 95% CI)',fontsize=14)\n",
    "plt.xlabel('Node',fontsize=14)"
   ]
  },
  {
   "cell_type": "code",
   "execution_count": null,
   "metadata": {},
   "outputs": [],
   "source": [
    "hub_stim_nodes = stim_nodes"
   ]
  },
  {
   "cell_type": "code",
   "execution_count": null,
   "metadata": {},
   "outputs": [],
   "source": []
  }
 ],
 "metadata": {
  "hide_input": false,
  "kernelspec": {
   "display_name": "Python 3",
   "language": "python",
   "name": "python3"
  },
  "language_info": {
   "codemirror_mode": {
    "name": "ipython",
    "version": 3
   },
   "file_extension": ".py",
   "mimetype": "text/x-python",
   "name": "python",
   "nbconvert_exporter": "python",
   "pygments_lexer": "ipython3",
   "version": "3.7.2"
  },
  "toc": {
   "base_numbering": 1,
   "nav_menu": {},
   "number_sections": true,
   "sideBar": true,
   "skip_h1_title": false,
   "title_cell": "Table of Contents",
   "title_sidebar": "Contents",
   "toc_cell": false,
   "toc_position": {
    "height": "calc(100% - 180px)",
    "left": "10px",
    "top": "150px",
    "width": "256px"
   },
   "toc_section_display": true,
   "toc_window_display": true
  }
 },
 "nbformat": 4,
 "nbformat_minor": 4
}
