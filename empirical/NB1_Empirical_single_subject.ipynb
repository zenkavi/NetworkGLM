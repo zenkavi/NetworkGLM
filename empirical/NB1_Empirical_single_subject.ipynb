{
 "cells": [
  {
   "cell_type": "code",
   "execution_count": 1,
   "metadata": {},
   "outputs": [],
   "source": [
    "import os"
   ]
  },
  {
   "cell_type": "markdown",
   "metadata": {},
   "source": [
    "Files I need and where to find them\n",
    "\n",
    "Based on \n",
    "https://github.com/ColeLab/TaskFCRemoveMeanActivity/blob/master/empiricalfMRIAnalyses/Preproc_HCPData_PostMinPreproc_TaskRest_NoTaskReg.m\n"
   ]
  },
  {
   "cell_type": "code",
   "execution_count": 8,
   "metadata": {},
   "outputs": [
    {
     "name": "stdout",
     "output_type": "stream",
     "text": [
      "/Users/zeynepenkavi/Downloads/Glasser_et_al_2016_HCP_MMP1.0_RVVG/HCP_PhaseTwo/Q1-Q6_RelatedParcellation210/MNINonLinear/fsaverage_LR32k/Q1-Q6_RelatedParcellation210.L.CorticalAreas_dil_Colors.32k_fs_LR.dlabel.nii\n"
     ]
    }
   ],
   "source": [
    "parcels_dir = '/Users/zeynepenkavi/Downloads/Glasser_et_al_2016_HCP_MMP1.0_RVVG/HCP_PhaseTwo/Q1-Q6_RelatedParcellation210/MNINonLinear/fsaverage_LR32k'\n",
    "L_parcelCIFTIFile= os.path.join(parcels_dir, 'Q1-Q6_RelatedParcellation210.L.CorticalAreas_dil_Colors.32k_fs_LR.dlabel.nii')\n",
    "R_parcelCIFTIFile= os.path.join(parcels_dir, 'Q1-Q6_RelatedParcellation210.R.CorticalAreas_dil_Colors.32k_fs_LR.dlabel.nii')\n",
    "\n",
    "print(L_parcelCIFTIFile)"
   ]
  },
  {
   "cell_type": "code",
   "execution_count": 33,
   "metadata": {},
   "outputs": [
    {
     "data": {
      "text/plain": [
       "'/Users/zeynepenkavi/Downloads/100307'"
      ]
     },
     "execution_count": 33,
     "metadata": {},
     "output_type": "execute_result"
    }
   ],
   "source": [
    "datadir = '/Users/zeynepenkavi/Downloads'\n",
    "subjNum = '100307'\n",
    "subjDir= os.path.join(datadir, subjNum)\n",
    "subjDir"
   ]
  },
  {
   "cell_type": "code",
   "execution_count": 34,
   "metadata": {},
   "outputs": [
    {
     "name": "stdout",
     "output_type": "stream",
     "text": [
      "/Users/zeynepenkavi/Downloads/100307/MNINonLinear/Results/rfMRI_REST1_RL\n",
      "/Users/zeynepenkavi/Downloads/100307/MNINonLinear/Results/rfMRI_REST1_RL/rfMRI_REST1_RL_Atlas.dtseries.nii\n"
     ]
    }
   ],
   "source": [
    "runNames = ['rfMRI_REST1_RL', 'rfMRI_REST1_LR', 'rfMRI_REST2_RL', 'rfMRI_REST2_LR', 'tfMRI_EMOTION_RL','tfMRI_EMOTION_LR','tfMRI_GAMBLING_RL','tfMRI_GAMBLING_LR','tfMRI_LANGUAGE_RL','tfMRI_LANGUAGE_LR','tfMRI_MOTOR_RL','tfMRI_MOTOR_LR','tfMRI_RELATIONAL_RL','tfMRI_RELATIONAL_LR','tfMRI_SOCIAL_RL','tfMRI_SOCIAL_LR','tfMRI_WM_RL','tfMRI_WM_LR']\n",
    "thisRunName = runNames[0]\n",
    "subjRunDir=os.path.join(subjDir,'MNINonLinear/Results/',thisRunName) \n",
    "print(subjRunDir)\n",
    "inputFile=os.path.join(subjRunDir, thisRunName+'_Atlas.dtseries.nii')\n",
    "print(inputFile)"
   ]
  },
  {
   "cell_type": "markdown",
   "metadata": {},
   "source": [
    "Downsampling grayordinate data to parcels"
   ]
  },
  {
   "cell_type": "code",
   "execution_count": 35,
   "metadata": {},
   "outputs": [
    {
     "name": "stdout",
     "output_type": "stream",
     "text": [
      "/Users/zeynepenkavi/Downloads/100307/my_outputs/rfMRI_REST1_RL_Atlas.L.Glasser2016Parcels.32k_fs_LR.ptseries.nii\n"
     ]
    }
   ],
   "source": [
    "parcellationName = 'Glasser2016'\n",
    "L_parcelTSFilename = os.path.join(subjDir, 'my_outputs', thisRunName + '_Atlas.L.' + parcellationName + 'Parcels.32k_fs_LR.ptseries.nii')\n",
    "print(L_parcelTSFilename)"
   ]
  },
  {
   "cell_type": "code",
   "execution_count": 36,
   "metadata": {},
   "outputs": [],
   "source": [
    "if not os.path.exists(L_parcelTSFilename):\n",
    "    print('wb_command -cifti-parcellate ' + inputFile + ' ' + L_parcelCIFTIFile + ' COLUMN ' + L_parcelTSFilename + ' -method MEAN')"
   ]
  },
  {
   "cell_type": "code",
   "execution_count": 39,
   "metadata": {},
   "outputs": [
    {
     "name": "stdout",
     "output_type": "stream",
     "text": [
      "wb_command -cifti-parcellate /Users/zeynepenkavi/Downloads/100307/MNINonLinear/Results/rfMRI_REST1_RL/rfMRI_REST1_RL_Atlas.dtseries.nii /Users/zeynepenkavi/Downloads/Glasser_et_al_2016_HCP_MMP1.0_RVVG/HCP_PhaseTwo/Q1-Q6_RelatedParcellation210/MNINonLinear/fsaverage_LR32k/Q1-Q6_RelatedParcellation210.R.CorticalAreas_dil_Colors.32k_fs_LR.dlabel.nii COLUMN /Users/zeynepenkavi/Downloads/100307/my_outputs/rfMRI_REST1_RL_Atlas.R.Glasser2016Parcels.32k_fs_LR.ptseries.nii -method MEAN\n"
     ]
    }
   ],
   "source": [
    "R_parcelTSFilename = os.path.join(subjDir, 'my_outputs', thisRunName + '_Atlas.R.' + parcellationName + 'Parcels.32k_fs_LR.ptseries.nii')\n",
    "if not os.path.exists(R_parcelTSFilename):\n",
    "    print('wb_command -cifti-parcellate ' + inputFile + ' ' + R_parcelCIFTIFile + ' COLUMN ' + R_parcelTSFilename + ' -method MEAN')"
   ]
  },
  {
   "cell_type": "code",
   "execution_count": 38,
   "metadata": {},
   "outputs": [
    {
     "data": {
      "text/plain": [
       "False"
      ]
     },
     "execution_count": 38,
     "metadata": {},
     "output_type": "execute_result"
    }
   ],
   "source": []
  },
  {
   "cell_type": "markdown",
   "metadata": {},
   "source": [
    "# Preprocessing\n",
    "\n",
    "Inputs:\n",
    "\n",
    "Steps:\n",
    "\n",
    "Outputs:\n",
    "- Resting state connectivity matrix for Glasser parcels\n",
    "- Task time series averaged over Glasser parcels\n",
    "\n",
    "# Task parameter correction\n",
    "\n",
    "Inputs:\n",
    "- Resting state connectivity matrix for Glasser parcels\n",
    "- Task time series averaged over Glasser parcels\n",
    "\n",
    "Steps:\n",
    "\n",
    "Outputs:\n",
    "- Vector of uncorrected (standard GLM) betas\n",
    "- Vector of corrected (extended GLM) betas\n"
   ]
  },
  {
   "cell_type": "markdown",
   "metadata": {},
   "source": [
    "Other datasets of interest:  \n",
    "https://openneuro.org/datasets/ds000030/versions/1.0.0  \n",
    "https://openneuro.org/datasets/ds002790/versions/2.0.0  \n",
    "https://openneuro.org/datasets/ds002785/versions/2.0.0  "
   ]
  },
  {
   "cell_type": "code",
   "execution_count": null,
   "metadata": {},
   "outputs": [],
   "source": []
  }
 ],
 "metadata": {
  "kernelspec": {
   "display_name": "Python 3",
   "language": "python",
   "name": "python3"
  },
  "language_info": {
   "codemirror_mode": {
    "name": "ipython",
    "version": 3
   },
   "file_extension": ".py",
   "mimetype": "text/x-python",
   "name": "python",
   "nbconvert_exporter": "python",
   "pygments_lexer": "ipython3",
   "version": "3.7.2"
  }
 },
 "nbformat": 4,
 "nbformat_minor": 4
}
