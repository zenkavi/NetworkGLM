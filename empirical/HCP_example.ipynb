{
 "cells": [
  {
   "cell_type": "markdown",
   "metadata": {},
   "source": [
    "# Preprocessing\n",
    "\n",
    "Inputs:\n",
    "\n",
    "Steps:\n",
    "\n",
    "Outputs:\n",
    "- Resting state connectivity matrix for Glasser parcels\n",
    "- Task time series averaged over Glasser parcels\n",
    "\n",
    "# Task parameter correction\n",
    "\n",
    "Inputs:\n",
    "- Resting state connectivity matrix for Glasser parcels\n",
    "- Task time series averaged over Glasser parcels\n",
    "\n",
    "Steps:\n",
    "\n",
    "Outputs:\n",
    "- Vector of uncorrected (standard GLM) betas\n",
    "- Vector of corrected (extended GLM) betas\n"
   ]
  },
  {
   "cell_type": "code",
   "execution_count": null,
   "metadata": {},
   "outputs": [],
   "source": []
  }
 ],
 "metadata": {
  "kernelspec": {
   "display_name": "Python 3",
   "language": "python",
   "name": "python3"
  },
  "language_info": {
   "codemirror_mode": {
    "name": "ipython",
    "version": 3
   },
   "file_extension": ".py",
   "mimetype": "text/x-python",
   "name": "python",
   "nbconvert_exporter": "python",
   "pygments_lexer": "ipython3",
   "version": "3.7.2"
  }
 },
 "nbformat": 4,
 "nbformat_minor": 4
}
