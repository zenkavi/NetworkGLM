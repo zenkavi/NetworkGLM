{
 "cells": [
  {
   "cell_type": "markdown",
   "metadata": {},
   "source": [
    "# Inverting the Runge-Kutte second order method"
   ]
  },
  {
   "cell_type": "markdown",
   "metadata": {},
   "source": [
    "At each time point the differential equation describing the change in activity is solved using the [Runge-Kutte second order method](https://lpsa.swarthmore.edu/NumInt/NumIntSecond.html##section16). Runge-Kutte methods are used to discretize the problem of updating values for continuous time when solving differential equations. Ito et al. hypothesize the differential equation determining the amount of change in each timestep as:\n",
    "\n",
    "$$\\begin{equation*}\n",
    "{\\tau_i}\\frac{dx_i}{dt} = -x_i(t) + g\\Bigg(\\sum_{j\\neq i}^{N} W_{ij}\\phi\\big(x_j(t)\\big)\\Bigg) + s\\phi\\big(x_i(t)\\big) + I_i(t)\n",
    "\\end{equation*}$$"
   ]
  },
  {
   "cell_type": "markdown",
   "metadata": {},
   "source": [
    "where $g$ and $s$ are the global and self coupling parameters respectively and spontanous activity $I_i(t)$ is defined as\n",
    "\n",
    "$$\\begin{equation*}\n",
    "{I}_{i}(t) = {stimmag}_i * {tasktiming}_{i}(t)+ noise_i(t)\n",
    "\\end{equation*}$$\n",
    "\n"
   ]
  },
  {
   "cell_type": "markdown",
   "metadata": {},
   "source": [
    "To simplify the notation below I'll define the network input to each node as:\n",
    "\n",
    "$$\\begin{equation*}\n",
    "N_i(t) = \\sum_{j\\neq i}^{N} W_{ij}\\phi\\big(x_j(t)\\big)\n",
    "\\end{equation*}$$\n",
    "\n",
    "which operationally is the dot product of the weight matrix $W$ and the column vector of ~~spontaneous~~ activity for each node (${x}_{j}(t)$) transformed by the sigmoid ($\\phi$)."
   ]
  },
  {
   "cell_type": "markdown",
   "metadata": {},
   "source": [
    "Then we can re-write the initial equation as\n",
    "\n",
    "$$\\begin{equation*}\n",
    "{\\tau_i}\\frac{dx_i}{dt} = -x_i(t) + gN_i(t) + s\\phi\\big(x_i(t)\\big) + I_i(t)\n",
    "\\end{equation*}$$"
   ]
  },
  {
   "cell_type": "markdown",
   "metadata": {},
   "source": [
    "Using the approximation method to solve the equation the activity in the next time step is defined as\n",
    "\n",
    "$$\\begin{equation*}\n",
    "x_{i}(t+1) = x_{i}(t) + dt\\frac{k1_{i}+k2_{i}}{2}\n",
    "\\end{equation*}$$\n"
   ]
  },
  {
   "cell_type": "markdown",
   "metadata": {},
   "source": [
    "where\n",
    "\n",
    "$$\\begin{equation*}\n",
    "k1_{i} = \\frac{1}{\\tau_i}\\Bigg[-x_{i}(t) + gN_i(t) + s\\phi\\big(x_{i}(t)\\big) + {I}_{i}(t)\\Bigg]\n",
    "\\end{equation*}$$\n"
   ]
  },
  {
   "cell_type": "markdown",
   "metadata": {},
   "source": [
    "Using this slope the first intermediate approximation at the endpoint is\n",
    "\n",
    "$$\\begin{equation*}\n",
    "x_{i}^*(t+dt) = x_{i}(t) + k1_{i} dt\n",
    "\\end{equation*}$$\n"
   ]
  },
  {
   "cell_type": "markdown",
   "metadata": {},
   "source": [
    "and the second order approximation for the change in activity is\n",
    "\n",
    "$$\\begin{equation*}\n",
    "k2_{i} = \\frac{1}{\\tau_i}\\Bigg[-x_{i}^*(t+dt) + gN_i(t+dt) + s\\phi\\big(x_{i}^*(t+dt)\\big) + {I}_{i}(t+dt)\\Bigg]\n",
    "\\end{equation*}$$"
   ]
  },
  {
   "cell_type": "markdown",
   "metadata": {},
   "source": [
    "Replacing $x_{i}^*(t+dt)$\n",
    "\n",
    "$$\\begin{equation*}\n",
    "k2_{i} = \\frac{1}{\\tau_i}\\Bigg[-x_{i}(t) - k1_{i} dt + gN_i(t+dt) + s\\phi\\big(x_{i}(t) + k1_{i} dt\\big) + {I}_{i}(t+dt)\\Bigg]\n",
    "\\end{equation*}$$"
   ]
  },
  {
   "cell_type": "markdown",
   "metadata": {},
   "source": [
    "Replacing $k1_i$"
   ]
  },
  {
   "cell_type": "markdown",
   "metadata": {},
   "source": [
    "$$\\begin{equation*}\n",
    "k2_{i} = \\frac{1}{\\tau_i}\\Bigg[-x_{i}(t) - \\frac{dt}{\\tau_i}\\Bigg[-x_{i}(t) + gN_i(t) + s\\phi\\big(x_{i}(t)\\big) + {I}_{i}(t)\\Bigg] + gN_i(t+dt) + s\\phi\\Bigg(x_{i}(t) + \\frac{dt}{\\tau_i}\\Bigg[-x_{i}(t) + gN_i(t) + s\\phi\\big(x_{i}(t)\\big) + {I}_{i}(t)\\Bigg]\\Bigg) + {I}_{i}(t+dt)\\Bigg]\n",
    "\\end{equation*}$$"
   ]
  },
  {
   "cell_type": "markdown",
   "metadata": {},
   "source": [
    "Given these the amount of adjustment for the next time step is defined as\n",
    "\n",
    "$$\\begin{equation*}\n",
    "dt\\frac{k1_{i} + k2_{i}}{2} = \\frac{dt}{2\\tau_i}\\Bigg[-x_{i}(t) + gN_i(t) + s\\phi\\big(x_{i}(t)\\big) + {I}_{i}(t) -x_{i}(t) - \\frac{dt}{\\tau_i}\\Bigg[-x_{i}(t) + gN_i(t) + s\\phi\\big(x_{i}(t)\\big) + {I}_{i}(t)\\Bigg] + gN_i(t+dt) + s\\phi\\Bigg(x_{i}(t) + \\frac{dt}{\\tau_i}\\Bigg[-x_{i}(t) + gN_i(t) + s\\phi\\big(x_{i}(t)\\big) + {I}_{i}(t)\\Bigg]\\Bigg) + {I}_{i}(t+dt)\\Bigg]\n",
    "\\end{equation*}$$"
   ]
  },
  {
   "cell_type": "markdown",
   "metadata": {},
   "source": [
    "Taking out the $x_{i}(t)$ term for later \n",
    "\n",
    "$$\\begin{equation*}\n",
    "dt\\frac{k1_{i} + k2_{i}}{2} = -\\frac{dt}{\\tau_i}{x_{i}(t)} + \\frac{dt}{2\\tau_i}\\Bigg[gN_i(t) + s\\phi\\big(x_{i}(t)\\big) + {I}_{i}(t) - \\frac{dt}{\\tau_i}\\Bigg[-x_{i}(t) + gN_i(t) + s\\phi\\big(x_{i}(t)\\big) + {I}_{i}(t)\\Bigg] + gN_i(t+dt) + s\\phi\\Bigg(x_{i}(t) + \\frac{dt}{\\tau_i}\\Bigg[-x_{i}(t) + gN_i(t) + s\\phi\\big(x_{i}(t)\\big) + {I}_{i}(t)\\Bigg]\\Bigg) + {I}_{i}(t+dt)\\Bigg]\n",
    "\\end{equation*}$$"
   ]
  },
  {
   "cell_type": "markdown",
   "metadata": {},
   "source": [
    "The activity in the next step then is\n",
    "\n",
    "$$\\begin{equation*}\n",
    "x_{i}(t+dt) = (1-\\frac{dt}{\\tau_i}){x_{i}(t)} + \\frac{dt}{2\\tau_i}\\Bigg[gN_i(t) + s\\phi\\big(x_{i}(t)\\big) + {I}_{i}(t) - \\frac{dt}{\\tau_i}\\Bigg[-x_{i}(t) + gN_i(t) + s\\phi\\big(x_{i}(t)\\big) + {I}_{i}(t)\\Bigg] + gN_i(t+dt) + s\\phi\\Bigg(x_{i}(t) + \\frac{dt}{\\tau_i}\\Bigg[-x_{i}(t) + gN_i(t) + s\\phi\\big(x_{i}(t)\\big) + {I}_{i}(t)\\Bigg]\\Bigg) + {I}_{i}(t+dt)\\Bigg]\n",
    "\\end{equation*}$$"
   ]
  },
  {
   "cell_type": "markdown",
   "metadata": {},
   "source": [
    "which is a weighted sum of current activity $x_{i}(t)$ and an adjustment amount that accounts for the network activity, recurrent activity as well as task stimulation.\n",
    "\n",
    "The adjustment is weighted by $\\frac{dt}{\\tau{t}}$. The smaller this is (the larger the time constant relative to the sampling rate) the more the activity in the next step depends on the current activity.\n",
    "\n",
    "Writing it out so there is no linear dependence between the terms:"
   ]
  },
  {
   "cell_type": "markdown",
   "metadata": {},
   "source": [
    "$$\\begin{equation*}\n",
    "x_{i}(t+dt) = (1-\\frac{dt}{\\tau_i}+\\frac{{dt}^2}{2{\\tau_i}^2}){x_{i}(t)} + \\frac{dt}{2\\tau_i}\\Bigg[(1 - \\frac{dt}{\\tau_i})\\Bigg(gN_i(t) + s\\phi\\big(x_{i}(t)\\big) + {I}_{i}(t)\\Bigg) + gN_i(t+dt) + s\\phi\\Bigg((1-\\frac{dt}{\\tau_i})x_{i}(t) + \\frac{dt}{\\tau_i}\\big[gN_i(t) + s\\phi\\big(x_{i}(t)\\big) + {I}_{i}(t)\\big]\\Bigg) + {I}_{i}(t+dt)\\Bigg]\n",
    "\\end{equation*}$$"
   ]
  },
  {
   "cell_type": "code",
   "execution_count": null,
   "metadata": {},
   "outputs": [],
   "source": []
  }
 ],
 "metadata": {
  "kernelspec": {
   "display_name": "Python 3",
   "language": "python",
   "name": "python3"
  },
  "language_info": {
   "codemirror_mode": {
    "name": "ipython",
    "version": 3
   },
   "file_extension": ".py",
   "mimetype": "text/x-python",
   "name": "python",
   "nbconvert_exporter": "python",
   "pygments_lexer": "ipython3",
   "version": "3.8.3"
  }
 },
 "nbformat": 4,
 "nbformat_minor": 4
}
