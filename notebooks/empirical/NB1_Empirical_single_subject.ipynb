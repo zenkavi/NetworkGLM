{
 "cells": [
  {
   "cell_type": "markdown",
   "metadata": {},
   "source": [
    "# Correction of task parameter estimates for a single HCP subject\n",
    "\n",
    "Environment setup"
   ]
  },
  {
   "cell_type": "code",
   "execution_count": 1,
   "metadata": {},
   "outputs": [],
   "source": [
    "import os\n",
    "import nibabel as nib\n",
    "import numpy as np"
   ]
  },
  {
   "cell_type": "markdown",
   "metadata": {},
   "source": [
    "Path and data info setup"
   ]
  },
  {
   "cell_type": "code",
   "execution_count": 8,
   "metadata": {},
   "outputs": [
    {
     "name": "stdout",
     "output_type": "stream",
     "text": [
      "/Users/zeynepenkavi/Downloads/Glasser_et_al_2016_HCP_MMP1.0_RVVG/HCP_PhaseTwo/Q1-Q6_RelatedParcellation210/MNINonLinear/fsaverage_LR32k/Q1-Q6_RelatedParcellation210.L.CorticalAreas_dil_Colors.32k_fs_LR.dlabel.nii\n"
     ]
    }
   ],
   "source": [
    "parcels_dir = '/Users/zeynepenkavi/Downloads/Glasser_et_al_2016_HCP_MMP1.0_RVVG/HCP_PhaseTwo/Q1-Q6_RelatedParcellation210/MNINonLinear/fsaverage_LR32k'\n",
    "L_parcelCIFTIFile= os.path.join(parcels_dir, 'Q1-Q6_RelatedParcellation210.L.CorticalAreas_dil_Colors.32k_fs_LR.dlabel.nii')\n",
    "R_parcelCIFTIFile= os.path.join(parcels_dir, 'Q1-Q6_RelatedParcellation210.R.CorticalAreas_dil_Colors.32k_fs_LR.dlabel.nii')\n"
   ]
  },
  {
   "cell_type": "code",
   "execution_count": 60,
   "metadata": {},
   "outputs": [],
   "source": [
    "datadir = '/Users/zeynepenkavi/Downloads'\n",
    "subjNum = '100307'\n",
    "runCount = 0\n",
    "runNames = ['rfMRI_REST1_RL', 'tfMRI_EMOTION_RL','tfMRI_EMOTION_LR']\n",
    "thisRunName = runNames[runCount]\n",
    "numRuns = len(runNames)\n",
    "runLengths = [1200, 176, 176]\n",
    "thisRunLength = runLengths[runCount]\n",
    "parcellationName = 'Glasser2016'\n",
    "numParcels = 360"
   ]
  },
  {
   "cell_type": "code",
   "execution_count": 90,
   "metadata": {},
   "outputs": [
    {
     "name": "stdout",
     "output_type": "stream",
     "text": [
      "/Users/zeynepenkavi/Downloads/100307\n",
      "/Users/zeynepenkavi/Downloads/100307/MNINonLinear/Results/rfMRI_REST1_RL\n",
      "/Users/zeynepenkavi/Downloads/100307/MNINonLinear/Results/rfMRI_REST1_RL/rfMRI_REST1_RL_Atlas.dtseries.nii\n"
     ]
    }
   ],
   "source": [
    "subjDir= os.path.join(datadir, subjNum)\n",
    "print(subjDir)\n",
    "subjRunDir=os.path.join(subjDir,'MNINonLinear/Results/',thisRunName) \n",
    "print(subjRunDir)\n",
    "inputFile=os.path.join(subjRunDir, thisRunName+'_Atlas.dtseries.nii')\n",
    "print(inputFile)\n",
    "subjMaskDir=os.path.join(subjDir, 'my_outputs/masks/')\n",
    "if not os.path.exists(subjMaskDir):\n",
    "    os.makedirs(subjMaskDir)"
   ]
  },
  {
   "cell_type": "code",
   "execution_count": null,
   "metadata": {},
   "outputs": [],
   "source": []
  },
  {
   "cell_type": "markdown",
   "metadata": {},
   "source": [
    "## Preprocessing\n",
    "\n",
    "Based on \n",
    "https://github.com/ColeLab/TaskFCRemoveMeanActivity/blob/master/empiricalfMRIAnalyses/Preproc_HCPData_PostMinPreproc_TaskRest_NoTaskReg.m\n",
    "\n",
    "as outlined in the steps of\n",
    "https://github.com/ColeLab/TaskFCRemoveMeanActivity/blob/master/empiricalfMRIAnalyses/masterscript.m\n",
    "\n",
    "Inputs:\n",
    "- Glasser parcels CIFTI files\n",
    "- {runName}_Atlas.dtseries.nii\n",
    "- {subjRunDir}/Movement_Regressors.txt\n",
    "\n",
    "Steps:\n",
    "- Make command to downsampling grayordinate data to parcels using `wb_command` (to be run in Shell)\n",
    "- Nuisance regressor preparation\n",
    "\n",
    "Outputs:\n",
    "- Resting state connectivity matrix for Glasser parcels\n",
    "- Task time series averaged over Glasser parcels"
   ]
  },
  {
   "cell_type": "markdown",
   "metadata": {},
   "source": [
    "### Downsampling grayordinate data to parcels"
   ]
  },
  {
   "cell_type": "code",
   "execution_count": 35,
   "metadata": {},
   "outputs": [
    {
     "name": "stdout",
     "output_type": "stream",
     "text": [
      "/Users/zeynepenkavi/Downloads/100307/my_outputs/rfMRI_REST1_RL_Atlas.L.Glasser2016Parcels.32k_fs_LR.ptseries.nii\n"
     ]
    }
   ],
   "source": [
    "L_parcelTSFilename = os.path.join(subjDir, 'my_outputs', thisRunName + '_Atlas.L.' + parcellationName + 'Parcels.32k_fs_LR.ptseries.nii')\n",
    "R_parcelTSFilename = os.path.join(subjDir, 'my_outputs', thisRunName + '_Atlas.R.' + parcellationName + 'Parcels.32k_fs_LR.ptseries.nii')\n",
    "print(L_parcelTSFilename)"
   ]
  },
  {
   "cell_type": "code",
   "execution_count": 36,
   "metadata": {},
   "outputs": [],
   "source": [
    "if not os.path.exists(L_parcelTSFilename):\n",
    "    print('wb_command -cifti-parcellate ' + inputFile + ' ' + L_parcelCIFTIFile + ' COLUMN ' + L_parcelTSFilename + ' -method MEAN')"
   ]
  },
  {
   "cell_type": "code",
   "execution_count": 39,
   "metadata": {},
   "outputs": [
    {
     "name": "stdout",
     "output_type": "stream",
     "text": [
      "wb_command -cifti-parcellate /Users/zeynepenkavi/Downloads/100307/MNINonLinear/Results/rfMRI_REST1_RL/rfMRI_REST1_RL_Atlas.dtseries.nii /Users/zeynepenkavi/Downloads/Glasser_et_al_2016_HCP_MMP1.0_RVVG/HCP_PhaseTwo/Q1-Q6_RelatedParcellation210/MNINonLinear/fsaverage_LR32k/Q1-Q6_RelatedParcellation210.R.CorticalAreas_dil_Colors.32k_fs_LR.dlabel.nii COLUMN /Users/zeynepenkavi/Downloads/100307/my_outputs/rfMRI_REST1_RL_Atlas.R.Glasser2016Parcels.32k_fs_LR.ptseries.nii -method MEAN\n"
     ]
    }
   ],
   "source": [
    "if not os.path.exists(R_parcelTSFilename):\n",
    "    print('wb_command -cifti-parcellate ' + inputFile + ' ' + R_parcelCIFTIFile + ' COLUMN ' + R_parcelTSFilename + ' -method MEAN')"
   ]
  },
  {
   "cell_type": "code",
   "execution_count": 45,
   "metadata": {},
   "outputs": [],
   "source": [
    "L_dat = nib.load(L_parcelTSFilename)\n",
    "R_dat = nib.load(R_parcelTSFilename)"
   ]
  },
  {
   "cell_type": "code",
   "execution_count": 55,
   "metadata": {},
   "outputs": [
    {
     "data": {
      "text/plain": [
       "(360, 1200, 18)"
      ]
     },
     "execution_count": 55,
     "metadata": {},
     "output_type": "execute_result"
    }
   ],
   "source": [
    "tseriesMatSubj=np.zeros((numParcels,max(runLengths),numRuns))\n",
    "tseriesMatSubj.shape"
   ]
  },
  {
   "cell_type": "code",
   "execution_count": 85,
   "metadata": {},
   "outputs": [],
   "source": [
    "start_ind = 0\n",
    "end_ind = int(numParcels/2)\n",
    "tseriesMatSubj[start_ind:end_ind, :runLengths[runCount], runCount] = L_dat.get_fdata()[:runLengths[runCount],].T\n",
    "tseriesMatSubj[start_ind+end_ind:end_ind*2, :runLengths[runCount],runCount] = R_dat.get_fdata()[:runLengths[runCount],].T"
   ]
  },
  {
   "cell_type": "markdown",
   "metadata": {},
   "source": [
    "### Preparing nuisance regressors"
   ]
  },
  {
   "cell_type": "markdown",
   "metadata": {},
   "source": [
    "Resample Freesurfer segmented mask into functional space (using nearest neighbor interpolation); uses AFNI"
   ]
  },
  {
   "cell_type": "code",
   "execution_count": 95,
   "metadata": {},
   "outputs": [],
   "source": [
    "subjMNINonLinearDir=os.path.join(subjDir, 'MNINonLinear')"
   ]
  },
  {
   "cell_type": "markdown",
   "metadata": {},
   "source": [
    "Don't think this worked. Try another way to resmple"
   ]
  },
  {
   "cell_type": "code",
   "execution_count": 105,
   "metadata": {},
   "outputs": [
    {
     "name": "stdout",
     "output_type": "stream",
     "text": [
      "flirt -in /Users/zeynepenkavi/Downloads/100307/MNINonLinear/aparc+aseg.nii.gz -ref /Users/zeynepenkavi/Downloads/100307/MNINonLinear/Results/rfMRI_REST1_RL/rfMRI_REST1_RL_hp2000_clean.nii.gz -out /Users/zeynepenkavi/Downloads/100307/my_outputs/aparc+aseg_resampFunc.nii.gz -applyxfm -interp nearestneighbour\n"
     ]
    }
   ],
   "source": [
    "print('flirt -in ' + \n",
    "      os.path.join(subjMNINonLinearDir,'aparc+aseg.nii.gz') +\n",
    "      ' -ref ' + os.path.join(subjDir, 'MNINonLinear/Results', runNames[0],  runNames[0]+'_hp2000_clean.nii.gz')+\n",
    "      ' -out '+ os.path.join(subjDir, 'my_outputs', 'aparc+aseg_resampFunc.nii.gz' ) +\n",
    "      ' -applyxfm -interp nearestneighbour')"
   ]
  },
  {
   "cell_type": "code",
   "execution_count": 108,
   "metadata": {},
   "outputs": [],
   "source": [
    "tmp3 = nib.load(os.path.join(subjDir, 'my_outputs', 'aparc+aseg_resampFunc.nii.gz' ))"
   ]
  },
  {
   "cell_type": "code",
   "execution_count": 109,
   "metadata": {},
   "outputs": [],
   "source": [
    "tmp3_dat = tmp3.get_fdata()"
   ]
  },
  {
   "cell_type": "code",
   "execution_count": 110,
   "metadata": {},
   "outputs": [
    {
     "data": {
      "text/plain": [
       "array([-1630.01098633, -1364.88549805, -1247.02270508, ...,\n",
       "       23184.75      , 23398.58007812, 23784.55273438])"
      ]
     },
     "execution_count": 110,
     "metadata": {},
     "output_type": "execute_result"
    }
   ],
   "source": [
    "np.unique(tmp3_dat)"
   ]
  },
  {
   "cell_type": "markdown",
   "metadata": {},
   "source": [
    "## Task parameter correction\n",
    "\n",
    "Inputs:\n",
    "- Resting state connectivity matrix for Glasser parcels\n",
    "- Task time series averaged over Glasser parcels\n",
    "\n",
    "Steps:\n",
    "\n",
    "Outputs:\n",
    "- Vector of uncorrected (standard GLM) betas\n",
    "- Vector of corrected (extended GLM) betas"
   ]
  },
  {
   "cell_type": "code",
   "execution_count": null,
   "metadata": {},
   "outputs": [],
   "source": []
  },
  {
   "cell_type": "markdown",
   "metadata": {},
   "source": [
    "## Other datasets of interest\n",
    "\n",
    "https://openneuro.org/datasets/ds000030/versions/1.0.0  \n",
    "https://openneuro.org/datasets/ds003097/versions/1.2.1 (has derivatives)\n",
    "https://openneuro.org/datasets/ds002790/versions/2.0.0 (has derivatives)\n",
    "https://openneuro.org/datasets/ds002785/versions/2.0.0 (has derivatives) \n"
    "https://openneuro.org/datasets/ds002766/versions/3.0.2 \n"
   ]
  },
  {
   "cell_type": "code",
   "execution_count": null,
   "metadata": {},
   "outputs": [],
   "source": []
  }
 ],
 "metadata": {
  "kernelspec": {
   "display_name": "Python 3",
   "language": "python",
   "name": "python3"
  },
  "language_info": {
   "codemirror_mode": {
    "name": "ipython",
    "version": 3
   },
   "file_extension": ".py",
   "mimetype": "text/x-python",
   "name": "python",
   "nbconvert_exporter": "python",
   "pygments_lexer": "ipython3",
   "version": "3.8.3"
  }
 },
 "nbformat": 4,
 "nbformat_minor": 4
}
